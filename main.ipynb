{
 "cells": [
  {
   "cell_type": "code",
   "execution_count": 1,
   "metadata": {},
   "outputs": [
    {
     "data": {
      "text/plain": [
       "12"
      ]
     },
     "execution_count": 1,
     "metadata": {},
     "output_type": "execute_result"
    }
   ],
   "source": [
    "12"
   ]
  },
  {
   "cell_type": "code",
   "execution_count": 2,
   "metadata": {},
   "outputs": [
    {
     "data": {
      "text/plain": [
       "10"
      ]
     },
     "execution_count": 2,
     "metadata": {},
     "output_type": "execute_result"
    }
   ],
   "source": [
    "10"
   ]
  },
  {
   "cell_type": "code",
   "execution_count": 3,
   "metadata": {},
   "outputs": [],
   "source": [
    "collage = input('Enter your collage name')\n",
    "city = input('enter your city')"
   ]
  },
  {
   "cell_type": "code",
   "execution_count": 4,
   "metadata": {},
   "outputs": [
    {
     "name": "stdout",
     "output_type": "stream",
     "text": [
      "name, collage, city\n"
     ]
    }
   ],
   "source": [
    "print('name, collage, city')"
   ]
  },
  {
   "cell_type": "code",
   "execution_count": 10,
   "metadata": {},
   "outputs": [
    {
     "name": "stdout",
     "output_type": "stream",
     "text": [
      "this is an apple  it costs 900 rupees\n"
     ]
    }
   ],
   "source": [
    "qty = 10\n",
    "price = 90*qty\n",
    "print('this is an apple',' it costs',price,'rupees')"
   ]
  },
  {
   "cell_type": "code",
   "execution_count": 11,
   "metadata": {},
   "outputs": [
    {
     "name": "stdout",
     "output_type": "stream",
     "text": [
      "this is an 🍎. 10 kg costs 900 rupees\n"
     ]
    }
   ],
   "source": [
    "print('this is an 🍎.', qty, 'kg costs', price, 'rupees')"
   ]
  },
  {
   "cell_type": "markdown",
   "metadata": {},
   "source": [
    "f-string"
   ]
  },
  {
   "cell_type": "code",
   "execution_count": 16,
   "metadata": {},
   "outputs": [
    {
     "data": {
      "text/plain": [
       "'this is an apple. 10 kg costs 900 rupees'"
      ]
     },
     "execution_count": 16,
     "metadata": {},
     "output_type": "execute_result"
    }
   ],
   "source": [
    "f\"this is an apple. {qty} kg costs {price} rupees\""
   ]
  },
  {
   "cell_type": "code",
   "execution_count": 24,
   "metadata": {},
   "outputs": [
    {
     "name": "stdout",
     "output_type": "stream",
     "text": [
      "the answer is 3.33\n",
      "10 / 3 = 3.333\n",
      "this was good\n"
     ]
    }
   ],
   "source": [
    "x= 10\n",
    "y= 3\n",
    "z= x/y\n",
    "print(f'the answer is {z:.2f}')\n",
    "print(f'{x} / {y} = {z:.3f}')\n",
    "print('this was good')"
   ]
  },
  {
   "cell_type": "code",
   "execution_count": 28,
   "metadata": {},
   "outputs": [
    {
     "name": "stdout",
     "output_type": "stream",
     "text": [
      "raj 3 chars\n",
      "rajan 5 chars\n",
      "rajeshwari 10 chars\n"
     ]
    }
   ],
   "source": [
    "n1, n2, n3 = 'raj', 'rajan', 'rajeshwari'\n",
    "print(n1, len(n1), 'chars')\n",
    "print(n2, len(n2), 'chars')\n",
    "print(n3, len(n3), 'chars')\n"
   ]
  },
  {
   "cell_type": "code",
   "execution_count": 30,
   "metadata": {},
   "outputs": [
    {
     "name": "stdout",
     "output_type": "stream",
     "text": [
      "raj             3 chars\n",
      "rajan           5 chars\n",
      "rajeshwari      10 chars\n"
     ]
    }
   ],
   "source": [
    "print(f'{n1:15} {len(n1)} chars')\n",
    "print(f'{n2:15} {len(n2)} chars')\n",
    "print(f'{n3:15} {len(n3)} chars')"
   ]
  },
  {
   "cell_type": "code",
   "execution_count": 34,
   "metadata": {},
   "outputs": [
    {
     "name": "stdout",
     "output_type": "stream",
     "text": [
      "   raj    3 chars\n",
      "  rajan   5 chars\n",
      "rajeshwari 10 chars\n"
     ]
    }
   ],
   "source": [
    "print(f'{n1:^9} {len(n1)} chars')\n",
    "print(f'{n2:^9} {len(n2)} chars')\n",
    "print(f'{n3:^9} {len(n3)} chars')"
   ]
  },
  {
   "cell_type": "markdown",
   "metadata": {},
   "source": [
    "typecasting data and casting inputs"
   ]
  },
  {
   "cell_type": "code",
   "execution_count": 36,
   "metadata": {},
   "outputs": [
    {
     "data": {
      "text/plain": [
       "10.0"
      ]
     },
     "execution_count": 36,
     "metadata": {},
     "output_type": "execute_result"
    }
   ],
   "source": [
    "x = 10\n",
    "float(x)"
   ]
  },
  {
   "cell_type": "code",
   "execution_count": 38,
   "metadata": {},
   "outputs": [
    {
     "data": {
      "text/plain": [
       "10.5"
      ]
     },
     "execution_count": 38,
     "metadata": {},
     "output_type": "execute_result"
    }
   ],
   "source": [
    "x ='10.5'\n",
    "float(x)"
   ]
  },
  {
   "cell_type": "code",
   "execution_count": 43,
   "metadata": {},
   "outputs": [
    {
     "name": "stdout",
     "output_type": "stream",
     "text": [
      "10000010\n",
      "15\n"
     ]
    }
   ],
   "source": [
    "data = '10000010'\n",
    "print(int(data))\n",
    "data = '1111'\n",
    "print(int(data, 2))"
   ]
  },
  {
   "cell_type": "code",
   "execution_count": 44,
   "metadata": {},
   "outputs": [
    {
     "data": {
      "text/plain": [
       "'1290310'"
      ]
     },
     "execution_count": 44,
     "metadata": {},
     "output_type": "execute_result"
    }
   ],
   "source": [
    "data = 1290310\n",
    "str(data)"
   ]
  },
  {
   "cell_type": "code",
   "execution_count": 52,
   "metadata": {},
   "outputs": [
    {
     "data": {
      "text/plain": [
       "3000"
      ]
     },
     "execution_count": 52,
     "metadata": {},
     "output_type": "execute_result"
    }
   ],
   "source": [
    "a = int(input('Enter A:'))\n",
    "b = int(input('Enter B:'))\n",
    "a + b"
   ]
  },
  {
   "cell_type": "code",
   "execution_count": 50,
   "metadata": {},
   "outputs": [
    {
     "data": {
      "text/plain": [
       "'10002000'"
      ]
     },
     "execution_count": 50,
     "metadata": {},
     "output_type": "execute_result"
    }
   ],
   "source": [
    "'1000' + '2000'"
   ]
  },
  {
   "cell_type": "markdown",
   "metadata": {},
   "source": [
    "                    # wap to find out the Simple Interest, by taking user input for principle, rate and time"
   ]
  },
  {
   "cell_type": "code",
   "execution_count": 58,
   "metadata": {},
   "outputs": [
    {
     "name": "stdout",
     "output_type": "stream",
     "text": [
      "pricipal =  120000\n",
      "Rate = 4.65%\n",
      "Year = 10\n",
      "simple Interest = 55800.00\n"
     ]
    }
   ],
   "source": [
    "principal = int(input('Enter pricipal'))\n",
    "rate = float(input('Enter rate'))\n",
    "time = int(input('Enter time'))\n",
    "si = principal * rate * time / 100\n",
    "print(f'pricipal =  {principal}')\n",
    "print(f'Rate = {rate}%')\n",
    "print(f'Year = {time}')\n",
    "print(f'simple Interest = {si:.2f}')"
   ]
  },
  {
   "cell_type": "code",
   "execution_count": null,
   "metadata": {},
   "outputs": [],
   "source": []
  }
 ],
 "metadata": {
  "kernelspec": {
   "display_name": "base",
   "language": "python",
   "name": "python3"
  },
  "language_info": {
   "codemirror_mode": {
    "name": "ipython",
    "version": 3
   },
   "file_extension": ".py",
   "mimetype": "text/x-python",
   "name": "python",
   "nbconvert_exporter": "python",
   "pygments_lexer": "ipython3",
   "version": "3.11.4"
  }
 },
 "nbformat": 4,
 "nbformat_minor": 2
}
